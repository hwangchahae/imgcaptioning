{
 "cells": [
  {
   "cell_type": "markdown",
   "id": "4c8f7efa",
   "metadata": {},
   "source": [
    "```\n",
    "텍스트 + 이미지\n",
    "텍스트 입력 --> 이미지생성\n",
    "U-NET, CLIP텍스트 인코더 , Diffusion프로세스를 처리 및 상당한 학습시간과 데이터가 필요\n",
    "현실적인 제안 :  전이학습 stable-diffusion모델을 활용\n",
    "```"
   ]
  },
  {
   "cell_type": "code",
   "execution_count": null,
   "id": "a73fac24",
   "metadata": {},
   "outputs": [],
   "source": [
    "!pip install diffusers --upgrade\n",
    "!pip install invisible_watemark transformers accelerate sfetensors\n"
   ]
  }
 ],
 "metadata": {
  "language_info": {
   "name": "python"
  }
 },
 "nbformat": 4,
 "nbformat_minor": 5
}
